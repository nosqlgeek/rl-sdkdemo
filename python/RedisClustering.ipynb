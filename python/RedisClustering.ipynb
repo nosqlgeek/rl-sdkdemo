{
 "cells": [
  {
   "cell_type": "markdown",
   "metadata": {},
   "source": [
    "# Redis Clustering Demo"
   ]
  },
  {
   "cell_type": "markdown",
   "metadata": {},
   "source": [
    "## Constants\n",
    "Here some basic constants which we might need for demonstration purposes:"
   ]
  },
  {
   "cell_type": "code",
   "execution_count": 137,
   "metadata": {},
   "outputs": [],
   "source": [
    "DB_ENDPOINT='redis-16379.internal.cluster.ubuntu-docker.org'\n",
    "DB_PORT=16379\n",
    "CLUSTER_NODE_1='172.1.0.2'\n",
    "CLUSTER_NODE_2='172.1.0.4'\n",
    "ADMIN='admin@ubuntu-docker.org'\n",
    "ADMIN_PWD='redis'"
   ]
  },
  {
   "cell_type": "markdown",
   "metadata": {},
   "source": [
    "## Imports"
   ]
  },
  {
   "cell_type": "code",
   "execution_count": 72,
   "metadata": {},
   "outputs": [],
   "source": [
    "import redis\n",
    "from rediscluster import RedisCluster\n",
    "import socket\n",
    "import requests\n",
    "from requests.auth import HTTPDigestAuth\n",
    "import json\n",
    "import uuid"
   ]
  },
  {
   "attachments": {},
   "cell_type": "markdown",
   "metadata": {},
   "source": [
    "## Standard client example with ‘redis-py’\n",
    "\n",
    "Redis Enterprise allows to connect to a clustered database via a single endpoint name\n",
    "\n",
    "1. Start with a sharded DB which uses a single Proxy\n",
    "2. Show how the endpoint is resolved\n",
    "3. Change the database's endpoint binding to use multiple proxies\n",
    "4. Show how the endpoint is resolved"
   ]
  },
  {
   "cell_type": "code",
   "execution_count": 90,
   "metadata": {},
   "outputs": [],
   "source": [
    "r = redis.Redis(\n",
    "    host=DB_ENDPOINT,\n",
    "    port=DB_PORT,\n",
    "    decode_responses=True)"
   ]
  },
  {
   "cell_type": "code",
   "execution_count": 91,
   "metadata": {},
   "outputs": [
    {
     "data": {
      "text/plain": [
       "'world'"
      ]
     },
     "execution_count": 91,
     "metadata": {},
     "output_type": "execute_result"
    }
   ],
   "source": [
    "r.set('hello', 'world')\n",
    "r.get('hello')"
   ]
  },
  {
   "cell_type": "code",
   "execution_count": 92,
   "metadata": {},
   "outputs": [
    {
     "name": "stdout",
     "output_type": "stream",
     "text": [
      "172.1.0.3\n"
     ]
    }
   ],
   "source": [
    "## Single Proxy\n",
    "print(socket.gethostbyname(DB_ENDPOINT)) "
   ]
  },
  {
   "cell_type": "code",
   "execution_count": 93,
   "metadata": {},
   "outputs": [
    {
     "name": "stdout",
     "output_type": "stream",
     "text": [
      "172.1.0.2\n",
      "172.1.0.3\n",
      "172.1.0.4\n",
      "172.1.0.4\n",
      "172.1.0.2\n",
      "172.1.0.3\n"
     ]
    }
   ],
   "source": [
    "## Multi-Proxy with built-in DNS balancing\n",
    "for i in range(6):\n",
    "    print(socket.gethostbyname(DB_ENDPOINT))"
   ]
  },
  {
   "attachments": {},
   "cell_type": "markdown",
   "metadata": {},
   "source": [
    "## Show a database’s sharding expression\n",
    "\n",
    "Let's take a look at the database's sharding expression:"
   ]
  },
  {
   "cell_type": "code",
   "execution_count": 94,
   "metadata": {},
   "outputs": [
    {
     "name": "stdout",
     "output_type": "stream",
     "text": [
      "http://admin@ubuntu-docker.org:redis@172.1.0.2:8080/v1/bdbs\n",
      "[{'regex': '.*\\\\{(?<tag>.*)\\\\}.*'}, {'regex': '(?<tag>.*)'}]\n"
     ]
    }
   ],
   "source": [
    "url = \"http://{0}:{1}@{2}:8080/v1/bdbs\".format(ADMIN, ADMIN_PWD,CLUSTER_NODE_1)\n",
    "\n",
    "print(url)\n",
    "\n",
    "resp = requests.get(url)\n",
    "resp.content\n",
    "if(resp.ok):\n",
    "    data = json.loads(resp.content)\n",
    "    print(data[0]['shard_key_regex'])\n",
    "    "
   ]
  },
  {
   "attachments": {},
   "cell_type": "markdown",
   "metadata": {},
   "source": [
    "## Explain MULTI EXEC on a clustered database"
   ]
  },
  {
   "cell_type": "code",
   "execution_count": 100,
   "metadata": {},
   "outputs": [
    {
     "name": "stdout",
     "output_type": "stream",
     "text": [
      "session = 73a021be-53f5-11e9-a224-0242ac0100dd\n",
      "user = {'name': 'David Maier', 'status': 'active'}\n",
      "visists = 1\n"
     ]
    }
   ],
   "source": [
    "# This works\n",
    "r.flushdb();\n",
    "## Prep\n",
    "r.hmset('usr:nosqlgeek', {'name':'David Maier', 'status':'passive' })\n",
    "\n",
    "def print_user(id):\n",
    "    print(\"session = {0}\".format(r.get('sn:{0}'.format(id))))\n",
    "    print(\"user = {0}\".format(r.hgetall('usr:{0}'.format(id))))\n",
    "    print(\"visists = {0}\".format(r.get('cnt:lgn:{0}'.format(id))))\n",
    "\n",
    "## Update\n",
    "r.set('sn:nosqlgeek', uuid.uuid1())\n",
    "r.hset('usr:nosqlgeek', 'status', 'active')\n",
    "r.incr('cnt:lgn:nosqlgeek')\n",
    "print_user('nosqlgeek')"
   ]
  },
  {
   "cell_type": "code",
   "execution_count": 101,
   "metadata": {},
   "outputs": [
    {
     "name": "stdout",
     "output_type": "stream",
     "text": [
      "Command # 2 (HSET usr:nosqlgeek status active) of pipeline caused error: CROSSSLOT Keys in request don't hash to the same slot (command='HSET', key='usr:nosqlgeek') within 'MULTI'\n",
      "session = None\n",
      "user = {'name': 'David Maier', 'status': 'passive'}\n",
      "visists = 1\n"
     ]
    }
   ],
   "source": [
    "# This is not intended to work in a clustered database as \n",
    "\n",
    "## Prep\n",
    "### redis-py is using pipelining together with multi-exec, just fixing the name for demo purposes\n",
    "r.multi=r.pipeline\n",
    "r.hset('usr:nosqlgeek', 'status', 'passive')\n",
    "r.delete('sn:nosqlgeek')\n",
    "\n",
    "## Update\n",
    "try:\n",
    "    p=r.multi()\n",
    "    p.set('sn:nosqlgeek', uuid.uuid1())\n",
    "    p.hset('usr:nosqlgeek', 'status', 'active')\n",
    "    p.incr('cnt:lgn:nosqlgeek')\n",
    "    res=p.execute()\n",
    "except Exception as e:\n",
    "    print(e)\n",
    "\n",
    "# Didn't change anything\n",
    "print_user('nosqlgeek')"
   ]
  },
  {
   "cell_type": "code",
   "execution_count": 104,
   "metadata": {},
   "outputs": [
    {
     "name": "stdout",
     "output_type": "stream",
     "text": [
      "session = c9de375a-53f5-11e9-a224-0242ac0100dd\n",
      "user = {'name': 'David Maier', 'status': 'active'}\n",
      "visists = 2\n"
     ]
    }
   ],
   "source": [
    "# This works\n",
    "r.flushdb();\n",
    "\n",
    "## Prep\n",
    "r.hmset('usr:{nosqlgeek}', {'name':'David Maier', 'status':'passive' })\n",
    "\n",
    "## Update\n",
    "def user_login():\n",
    "    try:\n",
    "        p=r.multi()\n",
    "        p.set('sn:{nosqlgeek}', uuid.uuid1())\n",
    "        p.hset('usr:{nosqlgeek}', 'status', 'active')\n",
    "        p.incr('cnt:lgn:{nosqlgeek}')\n",
    "        res=p.execute()\n",
    "    except Exception as e:\n",
    "        print(e)\n",
    "\n",
    "user_login()\n",
    "user_login()\n",
    "print_user('{nosqlgeek}')"
   ]
  },
  {
   "attachments": {},
   "cell_type": "markdown",
   "metadata": {},
   "source": [
    "## Explain LUA scripts on a clustered database"
   ]
  },
  {
   "cell_type": "code",
   "execution_count": 110,
   "metadata": {},
   "outputs": [
    {
     "name": "stdout",
     "output_type": "stream",
     "text": [
      "CROSSSLOT Keys in request don't hash to the same slot (command='EVAL', key='cnt:lgn:nosqlgeek')\n"
     ]
    }
   ],
   "source": [
    "f=\"redis.call('set',KEYS[1],'c9de375a-53f5-11e9-a224-0242ac0100dd'); return redis.call('incr',KEYS[2])\"\n",
    "\n",
    "try:\n",
    "    r.eval(f,2,'sn:nosqlgeek', 'cnt:lgn:nosqlgeek')\n",
    "except Exception as e:\n",
    "    print(e)"
   ]
  },
  {
   "cell_type": "code",
   "execution_count": 123,
   "metadata": {},
   "outputs": [
    {
     "name": "stdout",
     "output_type": "stream",
     "text": [
      "5\n"
     ]
    }
   ],
   "source": [
    "try:\n",
    "    res = r.eval(f,2,'sn:{nosqlgeek}', 'cnt:lgn:{nosqlgeek}')\n",
    "    print(res)\n",
    "except Exception as e:\n",
    "    print(e)"
   ]
  },
  {
   "attachments": {},
   "cell_type": "markdown",
   "metadata": {},
   "source": [
    "## Sentinel Discovery"
   ]
  },
  {
   "cell_type": "code",
   "execution_count": 135,
   "metadata": {},
   "outputs": [
    {
     "name": "stdout",
     "output_type": "stream",
     "text": [
      "masters = {'demo@internal': {'name': 'demo@internal', 'ip': '172.1.0.2', 'port': 16379, 'flags': 'master', 'num-other-sentinels': 0, 'is_master': True, 'is_slave': False, 'is_sdown': False, 'is_odown': False, 'is_sentinel': False, 'is_disconnected': False, 'is_master_down': False}, 'demo': {'name': 'demo', 'ip': '172.1.0.2', 'port': 16379, 'flags': 'master', 'num-other-sentinels': 0, 'is_master': True, 'is_slave': False, 'is_sdown': False, 'is_odown': False, 'is_sentinel': False, 'is_disconnected': False, 'is_master_down': False}}\n",
      "message = {'type': 'subscribe', 'pattern': None, 'channel': '+switch-master', 'data': 1}\n"
     ]
    }
   ],
   "source": [
    "s = redis.Redis(\n",
    "    host=CLUSTER_NODE_1,\n",
    "    port=8001,\n",
    "    decode_responses=True)\n",
    "print('masters = {0}'.format(s.sentinel_masters()))\n",
    "\n",
    "p = s.pubsub()\n",
    "p.subscribe('+switch-master')\n",
    "\n",
    "print('message = {0}'.format(p.get_message()));"
   ]
  },
  {
   "cell_type": "markdown",
   "metadata": {},
   "source": [
    "## OSS Cluster client example with 'redis-py-cluster'\n",
    "\n",
    "1. Create a OSS Cluster DB in Redis Enterprise\n",
    "2. Show and explain CLUSTER SLOT\n",
    "3. Explain '-c' of redis-cli\n",
    "4. Show some simple commands\n",
    "5. Show a command without a key argument"
   ]
  },
  {
   "cell_type": "code",
   "execution_count": 140,
   "metadata": {},
   "outputs": [],
   "source": [
    "startup_nodes = [{\"host\": CLUSTER_NODE_1, \"port\": str(DB_PORT)}, {\"host\": CLUSTER_NODE_2, \"port\": str(DB_PORT)}]\n",
    "rc = RedisCluster(startup_nodes=startup_nodes, decode_responses=True)\n"
   ]
  },
  {
   "cell_type": "code",
   "execution_count": 142,
   "metadata": {},
   "outputs": [
    {
     "data": {
      "text/plain": [
       "{(0, 8191): {'master': ('172.1.0.2', 16379), 'slaves': []},\n",
       " (8192, 16383): {'master': ('172.1.0.3', 16379), 'slaves': []}}"
      ]
     },
     "execution_count": 142,
     "metadata": {},
     "output_type": "execute_result"
    }
   ],
   "source": [
    "rc.execute_command('CLUSTER SLOTS')"
   ]
  },
  {
   "cell_type": "code",
   "execution_count": 141,
   "metadata": {},
   "outputs": [
    {
     "data": {
      "text/plain": [
       "{'172.1.0.2:16379': 52, '172.1.0.3:16379': 48}"
      ]
     },
     "execution_count": 141,
     "metadata": {},
     "output_type": "execute_result"
    }
   ],
   "source": [
    "for i in range(100):\n",
    "    rc.set(\"hello:{0}\".format(i), \"world:{0}\".format(i))\n",
    "\n",
    "rc.dbsize()"
   ]
  },
  {
   "cell_type": "code",
   "execution_count": null,
   "metadata": {},
   "outputs": [],
   "source": []
  }
 ],
 "metadata": {
  "kernelspec": {
   "display_name": "Python 3",
   "language": "python",
   "name": "python3"
  },
  "language_info": {
   "codemirror_mode": {
    "name": "ipython",
    "version": 3
   },
   "file_extension": ".py",
   "mimetype": "text/x-python",
   "name": "python",
   "nbconvert_exporter": "python",
   "pygments_lexer": "ipython3",
   "version": "3.7.1"
  }
 },
 "nbformat": 4,
 "nbformat_minor": 2
}
